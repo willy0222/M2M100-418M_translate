{
  "nbformat": 4,
  "nbformat_minor": 0,
  "metadata": {
    "colab": {
      "provenance": []
    },
    "kernelspec": {
      "name": "python3",
      "display_name": "Python 3"
    },
    "language_info": {
      "name": "python"
    }
  },
  "cells": [
    {
      "cell_type": "code",
      "source": [
        "from transformers import M2M100ForConditionalGeneration, M2M100Tokenizer\n",
        "import gradio as gr\n",
        "\n",
        "model = M2M100ForConditionalGeneration.from_pretrained(\"facebook/m2m100_418M\")\n",
        "tokenizer = M2M100Tokenizer.from_pretrained(\"facebook/m2m100_418M\")\n",
        "\n",
        "def translate(input_text, input_lang, output_lang):\n",
        "    # 設定輸入語言和輸出語言\n",
        "    tokenizer.src_lang = input_lang\n",
        "    tokenizer.tgt_lang = output_lang\n",
        "\n",
        "    # 將輸入文字編碼\n",
        "    encoded_input = tokenizer(input_text, return_tensors=\"pt\")\n",
        "\n",
        "    # 生成翻譯\n",
        "    generated_tokens = model.generate(**encoded_input, forced_bos_token_id=tokenizer.get_lang_id(output_lang))\n",
        "\n",
        "    # 解碼並回傳翻譯結果\n",
        "    translated_text = tokenizer.batch_decode(generated_tokens, skip_special_tokens=True)[0]\n",
        "    return translated_text\n",
        "\n",
        "title = \"AI_Translation\"\n",
        "description = \"由AI提供的翻譯工具，以下是可以使用的語言: English(en), Spanish(es), Japanese(ja),  Korean(ko), Chinese(zh)\"\n",
        "\n",
        "\n",
        "# 設置所有支援的語言列表\n",
        "all_languages = [\n",
        "    \"en\", \"es\", \"ja\", \"ko\", \"zh\"\n",
        "]\n",
        "\n",
        "examples = [\n",
        "    [\"人生就像一盒巧克力。\", \"zh\", \"en\"],\n",
        "    [\"Life is like a box of chocolate.\", \"en\", \"zh\"]\n",
        "]\n",
        "\n",
        "# 建立Gradio介面\n",
        "gr.Interface(\n",
        "    fn=translate,\n",
        "    inputs=[\"text\", gr.inputs.Dropdown(all_languages, label=\"Input Language\"), gr.inputs.Dropdown(all_languages, label=\"Output Language\")],\n",
        "    outputs=\"text\",\n",
        "    title=title,\n",
        "    description=description,\n",
        "    examples=examples\n",
        ").launch()\n"
      ],
      "metadata": {
        "colab": {
          "base_uri": "https://localhost:8080/",
          "height": 720
        },
        "id": "BXrZeXcSvC28",
        "outputId": "57b02506-be0a-4002-efe4-eb73b94b641a"
      },
      "execution_count": 20,
      "outputs": [
        {
          "output_type": "stream",
          "name": "stderr",
          "text": [
            "<ipython-input-20-9485358e130d>:39: GradioDeprecationWarning: Usage of gradio.inputs is deprecated, and will not be supported in the future, please import your component from gradio.components\n",
            "  inputs=[\"text\", gr.inputs.Dropdown(all_languages, label=\"Input Language\"), gr.inputs.Dropdown(all_languages, label=\"Output Language\")],\n",
            "<ipython-input-20-9485358e130d>:39: GradioDeprecationWarning: `optional` parameter is deprecated, and it has no effect\n",
            "  inputs=[\"text\", gr.inputs.Dropdown(all_languages, label=\"Input Language\"), gr.inputs.Dropdown(all_languages, label=\"Output Language\")],\n"
          ]
        },
        {
          "output_type": "stream",
          "name": "stdout",
          "text": [
            "Setting queue=True in a Colab notebook requires sharing enabled. Setting `share=True` (you can turn this off by setting `share=False` in `launch()` explicitly).\n",
            "\n",
            "Colab notebook detected. To show errors in colab notebook, set debug=True in launch()\n",
            "Running on public URL: https://3857339d521e896641.gradio.live\n",
            "\n",
            "This share link expires in 72 hours. For free permanent hosting and GPU upgrades, run `gradio deploy` from Terminal to deploy to Spaces (https://huggingface.co/spaces)\n"
          ]
        },
        {
          "output_type": "display_data",
          "data": {
            "text/plain": [
              "<IPython.core.display.HTML object>"
            ],
            "text/html": [
              "<div><iframe src=\"https://3857339d521e896641.gradio.live\" width=\"100%\" height=\"500\" allow=\"autoplay; camera; microphone; clipboard-read; clipboard-write;\" frameborder=\"0\" allowfullscreen></iframe></div>"
            ]
          },
          "metadata": {}
        },
        {
          "output_type": "execute_result",
          "data": {
            "text/plain": []
          },
          "metadata": {},
          "execution_count": 20
        }
      ]
    },
    {
      "cell_type": "code",
      "source": [],
      "metadata": {
        "id": "tR8odNu0wwnJ"
      },
      "execution_count": null,
      "outputs": []
    }
  ]
}